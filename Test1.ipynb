{
  "cells": [
    {
      "cell_type": "markdown",
      "source": [
        "File name: RR_LAB3\n",
        "\n",
        "Name: Rohit Vaibhav Raut\n",
        "\n",
        "Course: 611\n",
        "\n",
        "Date: 02/27/2022\n",
        "\n",
        "Program description: Program for test 1 (Classifier)\n",
        "\n",
        "\n",
        "---\n",
        "\n",
        "\n",
        "\n",
        "\n",
        "**Classifier File**"
      ],
      "metadata": {
        "id": "xhSqbM4LBZY2"
      }
    },
    {
      "cell_type": "code",
      "source": [
        "from sklearn.datasets import load_iris\n",
        "from sklearn import metrics"
      ],
      "metadata": {
        "id": "NTwjM_jYelip"
      },
      "execution_count": 1,
      "outputs": []
    },
    {
      "cell_type": "markdown",
      "source": [
        "KNN class file is uploaded externally to run the code:"
      ],
      "metadata": {
        "id": "Wjfas1bkLmrb"
      }
    },
    {
      "cell_type": "code",
      "source": [
        "run KNN.py"
      ],
      "metadata": {
        "id": "KSaeqOOD7BUG"
      },
      "execution_count": 2,
      "outputs": []
    },
    {
      "cell_type": "markdown",
      "source": [
        "Iris dataset is loaded in the iris variable:"
      ],
      "metadata": {
        "id": "iAu3ak80LvwQ"
      }
    },
    {
      "cell_type": "code",
      "source": [
        "iris = load_iris()\n",
        "X_train, X_test, y_train, y_test = train_test_split(iris.data, iris.target, random_state=50)"
      ],
      "metadata": {
        "id": "JYjtoMfRhNGa"
      },
      "execution_count": 3,
      "outputs": []
    },
    {
      "cell_type": "markdown",
      "source": [
        "KnnBuild class is built to run the classifier code."
      ],
      "metadata": {
        "id": "6EEjw5fKL3by"
      }
    },
    {
      "cell_type": "code",
      "source": [
        "classifier = knnBuild(\"classifier\", 3, \"euclidean\")\n",
        "classifier.knnFit(X_train,y_train)\n",
        "a=classifier.knnPredict(X_test)\n",
        "score = metrics.accuracy_score(y_test,a)\n",
        "print(\"Test set score: \",format(score))"
      ],
      "metadata": {
        "id": "YDNQM8CLnq_d",
        "colab": {
          "base_uri": "https://localhost:8080/",
          "height": 0
        },
        "outputId": "dd4ea473-25d2-4575-b455-b7bdd5356064"
      },
      "execution_count": 4,
      "outputs": [
        {
          "output_type": "stream",
          "name": "stdout",
          "text": [
            "Test set score:  0.9473684210526315\n"
          ]
        }
      ]
    },
    {
      "cell_type": "markdown",
      "source": [
        "Visualizing the data by plotting the Petal length and width:"
      ],
      "metadata": {
        "id": "TEoLVUVhL93d"
      }
    },
    {
      "cell_type": "code",
      "source": [
        "for j in range(X_train.shape[0]):\n",
        "  if(y_train[j]==0):\n",
        "    plt.scatter(X_train[j:, 2], X_train[j:, 3], c='r',label='Setosa')\n",
        "  elif(y_train[j]==1):\n",
        "    plt.scatter(X_train[j:, 2], X_train[j:, 3], c='c', label='Versicolour')\n",
        "  elif(y_train[j]==2):\n",
        "    plt.scatter(X_train[j:, 2], X_train[j:, 3], c='y', label='Virginica')\n",
        "plt.xlabel(\"Petal length\")\n",
        "plt.ylabel(\"Petal width\")\n",
        "plt.show()\n"
      ],
      "metadata": {
        "colab": {
          "base_uri": "https://localhost:8080/",
          "height": 279
        },
        "id": "wazzIddWIQkE",
        "outputId": "136e7967-404e-4ecb-c74c-4e0bf78f851d"
      },
      "execution_count": 11,
      "outputs": [
        {
          "output_type": "display_data",
          "data": {
            "image/png": "[encoded data removed]",
            "text/plain": [
              "<Figure size 432x288 with 1 Axes>"
            ]
          },
          "metadata": {
            "needs_background": "light"
          }
        }
      ]
    },
    {
      "cell_type": "markdown",
      "source": [
        "Visualizing the data by plotting the Sepal length and width:"
      ],
      "metadata": {
        "id": "TiHAHmMhMR_5"
      }
    },
    {
      "cell_type": "code",
      "source": [
        "for j in range(X_train.shape[0]):\n",
        "  if(y_train[j]==0):\n",
        "    plt.scatter(X_train[j:, 0], X_train[j:, 1], c='r',label='Setosa')\n",
        "  elif(y_train[j]==1):\n",
        "    plt.scatter(X_train[j:, 0], X_train[j:, 1], c='c',label='Versicolour')\n",
        "  elif(y_train[j]==2):\n",
        "    plt.scatter(X_train[j:, 0], X_train[j:, 1], c='y',label='Virginica')\n",
        "plt.xlabel(\"Sepal length\")\n",
        "plt.ylabel(\"Sepal width\")\n",
        "plt.show()"
      ],
      "metadata": {
        "colab": {
          "base_uri": "https://localhost:8080/",
          "height": 282
        },
        "id": "DjghM7ep1PDd",
        "outputId": "50243795-7647-4c33-81cb-f30ad1a5065c"
      },
      "execution_count": 12,
      "outputs": [
        {
          "output_type": "display_data",
          "data": {
            "image/png": "[encoded data removed]",
            "text/plain": [
              "<Figure size 432x288 with 1 Axes>"
            ]
          },
          "metadata": {
            "needs_background": "light"
          }
        }
      ]
    }
  ],
  "metadata": {
    "colab": {
      "collapsed_sections": [],
      "name": "Copy_of_Welcome_To_Colaboratory (1).ipynb",
      "provenance": []
    },
    "kernelspec": {
      "display_name": "Python 3",
      "name": "python3"
    }
  },
  "nbformat": 4,
  "nbformat_minor": 0
}