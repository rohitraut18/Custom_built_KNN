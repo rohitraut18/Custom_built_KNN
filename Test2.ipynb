{
  "cells": [
    {
      "cell_type": "markdown",
      "source": [
        "File name: RR_LAB3\n",
        "\n",
        "Name: Rohit Vaibhav Raut\n",
        "\n",
        "Course: 611\n",
        "\n",
        "Date: 02/27/2022\n",
        "\n",
        "Program description: Program for test 2 (Regressor)\n",
        "\n",
        "\n",
        "---\n",
        "\n",
        "\n",
        "\n",
        "**Regression**"
      ],
      "metadata": {
        "id": "xhSqbM4LBZY2"
      }
    },
    {
      "cell_type": "markdown",
      "source": [
        "Importing 'metrics' for calculating the Score of the Custom Function."
      ],
      "metadata": {
        "id": "qaBnTdRWHgC6"
      }
    },
    {
      "cell_type": "code",
      "source": [
        "from sklearn import metrics"
      ],
      "metadata": {
        "id": "iMWp65Bz81dC"
      },
      "execution_count": 1,
      "outputs": []
    },
    {
      "cell_type": "markdown",
      "source": [
        "Installed mglearn for the wave database"
      ],
      "metadata": {
        "id": "l9g9vc9iHnny"
      }
    },
    {
      "cell_type": "code",
      "source": [
        "pip install mglearn"
      ],
      "metadata": {
        "colab": {
          "base_uri": "https://localhost:8080/",
          "height": 0
        },
        "id": "EkWtgKcrKZuK",
        "outputId": "e621d41e-8337-4759-bd12-c61c0d9f912a"
      },
      "execution_count": 2,
      "outputs": [
        {
          "output_type": "stream",
          "name": "stdout",
          "text": [
            "Requirement already satisfied: mglearn in /usr/local/lib/python3.7/dist-packages (0.1.9)\n",
            "Requirement already satisfied: joblib in /usr/local/lib/python3.7/dist-packages (from mglearn) (1.1.0)\n",
            "Requirement already satisfied: matplotlib in /usr/local/lib/python3.7/dist-packages (from mglearn) (3.2.2)\n",
            "Requirement already satisfied: imageio in /usr/local/lib/python3.7/dist-packages (from mglearn) (2.4.1)\n",
            "Requirement already satisfied: cycler in /usr/local/lib/python3.7/dist-packages (from mglearn) (0.11.0)\n",
            "Requirement already satisfied: pillow in /usr/local/lib/python3.7/dist-packages (from mglearn) (7.1.2)\n",
            "Requirement already satisfied: scikit-learn in /usr/local/lib/python3.7/dist-packages (from mglearn) (1.0.2)\n",
            "Requirement already satisfied: pandas in /usr/local/lib/python3.7/dist-packages (from mglearn) (1.3.5)\n",
            "Requirement already satisfied: numpy in /usr/local/lib/python3.7/dist-packages (from mglearn) (1.21.5)\n",
            "Requirement already satisfied: pyparsing!=2.0.4,!=2.1.2,!=2.1.6,>=2.0.1 in /usr/local/lib/python3.7/dist-packages (from matplotlib->mglearn) (3.0.7)\n",
            "Requirement already satisfied: kiwisolver>=1.0.1 in /usr/local/lib/python3.7/dist-packages (from matplotlib->mglearn) (1.3.2)\n",
            "Requirement already satisfied: python-dateutil>=2.1 in /usr/local/lib/python3.7/dist-packages (from matplotlib->mglearn) (2.8.2)\n",
            "Requirement already satisfied: six>=1.5 in /usr/local/lib/python3.7/dist-packages (from python-dateutil>=2.1->matplotlib->mglearn) (1.15.0)\n",
            "Requirement already satisfied: pytz>=2017.3 in /usr/local/lib/python3.7/dist-packages (from pandas->mglearn) (2018.9)\n",
            "Requirement already satisfied: threadpoolctl>=2.0.0 in /usr/local/lib/python3.7/dist-packages (from scikit-learn->mglearn) (3.1.0)\n",
            "Requirement already satisfied: scipy>=1.1.0 in /usr/local/lib/python3.7/dist-packages (from scikit-learn->mglearn) (1.4.1)\n"
          ]
        }
      ]
    },
    {
      "cell_type": "markdown",
      "source": [
        "Preamble file for running the wave dataset"
      ],
      "metadata": {
        "id": "o0SZ3RF0IABY"
      }
    },
    {
      "cell_type": "code",
      "source": [
        "run preamble.py"
      ],
      "metadata": {
        "id": "CF8msPw_Kivi"
      },
      "execution_count": 3,
      "outputs": []
    },
    {
      "cell_type": "markdown",
      "source": [
        "The KNN class file:"
      ],
      "metadata": {
        "id": "9j3jdgEcIc7L"
      }
    },
    {
      "cell_type": "code",
      "source": [
        "run KNN.py"
      ],
      "metadata": {
        "id": "raOnAjK84vFr"
      },
      "execution_count": 4,
      "outputs": []
    },
    {
      "cell_type": "markdown",
      "source": [
        "Splitting the data to train and test data"
      ],
      "metadata": {
        "id": "lnDxIpFQJG65"
      }
    },
    {
      "cell_type": "code",
      "source": [
        "X,y = mglearn.datasets.make_wave(n_samples=40)"
      ],
      "metadata": {
        "id": "J8M4BkQHLbKJ"
      },
      "execution_count": 5,
      "outputs": []
    },
    {
      "cell_type": "code",
      "source": [
        "X_train, X_test, y_train, y_test = train_test_split(X, y, random_state=0)"
      ],
      "metadata": {
        "id": "JYjtoMfRhNGa"
      },
      "execution_count": 6,
      "outputs": []
    },
    {
      "cell_type": "markdown",
      "source": [
        "Custom KNN class object has been made to calculate the score of the KNN"
      ],
      "metadata": {
        "id": "9BHDCwMaJMVR"
      }
    },
    {
      "cell_type": "code",
      "source": [
        "regression = knnBuild(\"regression\", 3, \"euclidean\")\n",
        "regression.knnFit(X_train,y_train)\n",
        "a=regression.knnPredict(X_test)\n",
        "score = metrics.r2_score(y_test,a)\n",
        "print(\"Test set score: {0:f}\".format(score))"
      ],
      "metadata": {
        "id": "YDNQM8CLnq_d",
        "colab": {
          "base_uri": "https://localhost:8080/",
          "height": 0
        },
        "outputId": "10fb6616-296c-4947-b1cf-3372ab297da7"
      },
      "execution_count": 7,
      "outputs": [
        {
          "output_type": "stream",
          "name": "stdout",
          "text": [
            "Test set score: 0.834417\n"
          ]
        }
      ]
    },
    {
      "cell_type": "markdown",
      "source": [
        "Plotting the original data"
      ],
      "metadata": {
        "id": "s3Dci7YoJTW0"
      }
    },
    {
      "cell_type": "code",
      "source": [
        "plt.scatter(x=X_test, y=y_test, c='r')\n",
        "plt.xlabel('X_test')\n",
        "plt.ylabel('y_test')\n",
        "m,b = np.polyfit(X_test[:,0],a,1)\n",
        "plt.plot(X_test,m*X_test + b)"
      ],
      "metadata": {
        "colab": {
          "base_uri": "https://localhost:8080/",
          "height": 298
        },
        "id": "4t1V27w4V7z-",
        "outputId": "d966e0d7-20e8-4e15-c761-e2971b32f233"
      },
      "execution_count": 8,
      "outputs": [
        {
          "output_type": "execute_result",
          "data": {
            "text/plain": [
              "[<matplotlib.lines.Line2D at 0x7f58ca61f1d0>]"
            ]
          },
          "metadata": {},
          "execution_count": 8
        },
        {
          "output_type": "display_data",
          "data": {
            "image/png": "[encoded data removed]",
            "application/pdf": "[encoded data removed]",
            "text/plain": [
              "<Figure size 432x288 with 1 Axes>"
            ]
          },
          "metadata": {
            "needs_background": "light"
          }
        }
      ]
    },
    {
      "cell_type": "markdown",
      "source": [
        "Plotting the tested data:"
      ],
      "metadata": {
        "id": "aVoFfL4oJc_f"
      }
    },
    {
      "cell_type": "code",
      "source": [
        "plt.scatter(x=X_test, y=y_test, c='r',label='Actual')\n",
        "plt.scatter(x=X_test, y=a, c='b',label='Tested')\n",
        "plt.xlabel('X_test')\n",
        "plt.ylabel('y_test')\n",
        "plt.legend() \n",
        "m,b = np.polyfit(X_test[:,0],a,1)"
      ],
      "metadata": {
        "colab": {
          "base_uri": "https://localhost:8080/",
          "height": 280
        },
        "id": "BRLcO5MFa6gN",
        "outputId": "69e17d6c-6d6b-43d6-daad-3021c68b678f"
      },
      "execution_count": 9,
      "outputs": [
        {
          "output_type": "display_data",
          "data": {
            "image/png": "[encoded data removed]",
            "application/pdf": "[encoded data removed]",
            "text/plain": [
              "<Figure size 432x288 with 1 Axes>"
            ]
          },
          "metadata": {
            "needs_background": "light"
          }
        }
      ]
    }
  ],
  "metadata": {
    "colab": {
      "collapsed_sections": [],
      "name": "Regression.ipynb",
      "provenance": []
    },
    "kernelspec": {
      "display_name": "Python 3",
      "name": "python3"
    }
  },
  "nbformat": 4,
  "nbformat_minor": 0
}